{
 "cells": [
  {
   "cell_type": "code",
   "execution_count": 4,
   "metadata": {
    "collapsed": true
   },
   "outputs": [],
   "source": [
    "import pymysql\n",
    "import time\n",
    "from datetime import datetime,timezone,timedelta"
   ]
  },
  {
   "cell_type": "code",
   "execution_count": 5,
   "outputs": [],
   "source": [
    "conn = pymysql.Connection(host='localhost',\n",
    "                          port=3306,\n",
    "                          user='root',\n",
    "                          password='1997',\n",
    "                          database='COV-19',\n",
    "                          charset='utf8')\n"
   ],
   "metadata": {
    "collapsed": false,
    "pycharm": {
     "name": "#%%\n"
    }
   }
  },
  {
   "cell_type": "code",
   "execution_count": 6,
   "outputs": [],
   "source": [
    "def transform_sequence(day):\n",
    "    # 日期的天数的序数词转换\n",
    "    sequence = '第1 first 第2 second 第3 third 第4 fourth 第5 fifth 第6 sixth 第7 seventh 第8 eighth 第9 ninth 第10 tenth 第11 eleventh 第12 twelfth 第13 thirteenth 第14 fourteenth 第15 fifteenth 第16 sixteenth 第17 seventeenth 第18 eighteenth 第19 nineteenth 第20 twentieth 第30 thirtieth 第31 thirty-first'\n",
    "    sequence_map = {}\n",
    "    for i in sequence.split('第'):\n",
    "        if i:\n",
    "            j = i.strip()\n",
    "            head = j[:2].strip(' ')\n",
    "            tail = j[-2:]\n",
    "            sequence_map[head + tail] = int(head)\n",
    "    return sequence_map[day]\n",
    "def transform_timezone(file_name):\n",
    "    # WHO COVID-19 global table data January 9th 2021 at 1.15.59 PM.csv\n",
    "    # 时区转换\n",
    "    spilt_list = file_name.split(' ')[5:]\n",
    "    month = time.strptime(spilt_list[0], '%B').tm_mon\n",
    "    day = transform_sequence(spilt_list[1])\n",
    "    morning_or_afternoon = spilt_list[-1].split('.')[0]\n",
    "    date = spilt_list[-2].split('.')\n",
    "    if morning_or_afternoon == 'PM':\n",
    "        date[0] = int(date[0]) + 12\n",
    "    else:\n",
    "        pass\n",
    "    year = int(spilt_list[2])\n",
    "    utc_time = datetime(year=year, month=month, day=day, hour=date[0], minute=int(date[1]), second=int(date[2]))\n",
    "    bejing_time = datetime(year=year, month=month, day=day, hour=date[0], minute=int(date[1]),\n",
    "                           second=int(date[2])).replace(\n",
    "        tzinfo=timezone.utc).astimezone(timezone(timedelta(hours=+8)))\n",
    "    # print(f'国际标准时间:' + utc_time.strftime('%Y-%m-%d %X'))\n",
    "    # 时区转换\n",
    "    # print(\"北京时间:\" + bejing_time.strftime('%Y-%m-%d %X'))\n",
    "    # return int(year),int(month),int(day), int(date[0]), int(date[1]), int(date[2])\n",
    "    return utc_time.strftime('%Y-%m-%d %X')\n",
    "# 2021-01-10 14:47:25\n",
    "date = transform_timezone('WHO COVID-19 global table data January 9th 2021 at 1.15.59 PM.csv')\n",
    "cur = conn.cursor()\n",
    "\n",
    "with cur:\n",
    "    # cur.execute('SET @@time_zone = \"SYSTEM\"')\n",
    "    cur.execute('UPDATE international SET Reported=%s ;', date)\n",
    "# print(date)"
   ],
   "metadata": {
    "collapsed": false,
    "pycharm": {
     "name": "#%%\n"
    }
   }
  }
 ],
 "metadata": {
  "kernelspec": {
   "display_name": "Python 3",
   "language": "python",
   "name": "python3"
  },
  "language_info": {
   "codemirror_mode": {
    "name": "ipython",
    "version": 2
   },
   "file_extension": ".py",
   "mimetype": "text/x-python",
   "name": "python",
   "nbconvert_exporter": "python",
   "pygments_lexer": "ipython2",
   "version": "2.7.6"
  }
 },
 "nbformat": 4,
 "nbformat_minor": 0
}